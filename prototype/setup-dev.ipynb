{
 "cells": [
  {
   "cell_type": "markdown",
   "metadata": {},
   "source": [
    "# Setup development environment\n",
    "\n",
    "This notebook will install `hyp3_gamma` in development (editable) mode into the Jupyter kernal's environment. \n",
    "\n",
    "**Importantly**, this assumes you've mounded the hyp3-gamma repository into the container like:\n",
    "```sh\n",
    "# from the hyp3-gamma repository root\n",
    "docker run -v ${PWD}:/home/conda/hyp3-gamma ...\n",
    "```\n",
    "\n",
    "Once installed, this should be available across notebooks running this kernal"
   ]
  },
  {
   "cell_type": "code",
   "execution_count": null,
   "metadata": {},
   "outputs": [],
   "source": [
    "!python -m pip install /home/conda/hyp3-gamma/.[develop]\n",
    "import hyp3_gamma\n",
    "hyp3_gamma.__version__"
   ]
  }
 ],
 "metadata": {
  "kernelspec": {
   "display_name": "Python 3",
   "language": "python",
   "name": "python3"
  },
  "language_info": {
   "codemirror_mode": {
    "name": "ipython",
    "version": 3
   },
   "file_extension": ".py",
   "mimetype": "text/x-python",
   "name": "python",
   "nbconvert_exporter": "python",
   "pygments_lexer": "ipython3",
   "version": "3.7.8"
  }
 },
 "nbformat": 4,
 "nbformat_minor": 4
}
